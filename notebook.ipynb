{
 "cells": [
  {
   "cell_type": "code",
   "execution_count": 1,
   "metadata": {},
   "outputs": [],
   "source": [
    "import networkx as nx\n",
    "import matplotlib.pyplot as plt\n",
    "import pyomo.environ as pyo\n",
    "import numpy as np\n",
    "import random\n",
    "import csv\n",
    "\n",
    "from functools import reduce\n",
    "\n",
    "from qiskit_algorithms.optimizers import SPSA, COBYLA\n",
    "from qiskit_algorithms import QAOA\n",
    "from qiskit.circuit.library import QAOAAnsatz\n",
    "from qiskit.transpiler.preset_passmanagers import generate_preset_pass_manager\n",
    "from qiskit_optimization.problems import QuadraticProgram\n",
    "from qiskit_algorithms.utils import algorithm_globals"
   ]
  },
  {
   "cell_type": "code",
   "execution_count": 3,
   "metadata": {},
   "outputs": [
    {
     "name": "stdout",
     "output_type": "stream",
     "text": [
      "Number of parts = 5\n",
      "Number of sites = 3\n",
      "Cost coefficients written in file cost_05_03.csv\n"
     ]
    }
   ],
   "source": [
    "def coefficients(Np=10,Ns=7):\n",
    "  C=np.zeros((Np, Ns, Ns))\n",
    "  f1=np.zeros((Np))\n",
    "  f2=np.zeros((Ns,Ns))\n",
    "  random.seed(42)\n",
    "  for a in range (2,Np+1):\n",
    "      f1[a-1]=random.randrange(50, 1000)/1000\n",
    "  for i in range (1,Ns):\n",
    "      for j in range (i+1,Ns+1):\n",
    "          f2[i-1,j-1]=random.randrange(100, 1000)/100\n",
    "  for a in range (2,Np+1):\n",
    "      for i in range (1,Ns):\n",
    "          for j in range (i+1,Ns+1):\n",
    "              C[a-1,i-1,j-1]=round(f1[a-1]*f2[i-1,j-1],2)\n",
    "#                print(a,i,j,f1[a-1],f2[i-1,j-1],C[a-1,i-1,j-1])\n",
    "  header = ['Part', 'Departure/Arrival site', 'Arrival/Departure site', 'Cost']\n",
    "  dataset = []\n",
    "  with open('cost_'+str(Np).zfill(2)+'_'+str(Ns).zfill(2)+'.csv', 'w') as f:\n",
    "      writer = csv.writer(f)\n",
    "      writer.writerow(header)\n",
    "      for a in range (2,Np+1):\n",
    "          for i in range (1,Ns):\n",
    "              for j in range (i+1,Ns+1):\n",
    "                  data=[a,i,j,C[a-1,i-1,j-1]]\n",
    "                  dataset.append(data)\n",
    "                  writer.writerow(data)\n",
    "  f.close()\n",
    "  return dataset\n",
    "\n",
    "Np = int(input(\"How many different parts in PBS? (default 10)\").strip() or \"10\")\n",
    "Ns = int(input(\"How many different sites? (default 7)\").strip() or 7)\n",
    "print(\"Number of parts =\", Np)\n",
    "print(\"Number of sites =\", Ns)\n",
    "n = Ns\n",
    "m = Np\n",
    "N = n * m\n",
    "data = coefficients(Np,Ns)\n",
    "print('Cost coefficients written in file cost_'+str(Np).zfill(2)+'_'+str(Ns).zfill(2)+'.csv')"
   ]
  },
  {
   "cell_type": "code",
   "execution_count": 4,
   "metadata": {},
   "outputs": [
    {
     "name": "stdout",
     "output_type": "stream",
     "text": [
      "total_weight: 18.54\n"
     ]
    }
   ],
   "source": [
    "# pbs = {(2, 1), (3, 1), (4, 1), (5, 2), (6, 2), (7, 2), (8, 3), (9, 4), (10, 4)}\n",
    "# psi = {(2, 3), (2, 4), (3, 4), (5, 6), (5, 7), (6, 7), (9, 10)}\n",
    "\n",
    "pbs = {(2, 1), (3, 1), (4, 2), (5, 2)}\n",
    "psi = {(2, 3), (4, 5)}\n",
    "\n",
    "N = n * m\n",
    "\n",
    "total_weight = sum(map(lambda x : x[3], data))\n",
    "print(\"total_weight:\", total_weight)"
   ]
  },
  {
   "cell_type": "code",
   "execution_count": 5,
   "metadata": {},
   "outputs": [
    {
     "name": "stdout",
     "output_type": "stream",
     "text": [
      "obj : Size=1, Index=None, Active=True\n",
      "    Key  : Active : Value\n",
      "    None :   True :  6.67\n",
      "[0, 1, 0, 1, 0, 0, 0, 0, 1, 0, 0, 1, 0, 1, 0]\n",
      "weight: 6.5600000000000005\n",
      "1 Var Declarations\n",
      "    x : Size=15, Index={0, 1, 2, 3, 4}*{0, 1, 2}\n",
      "        Key    : Lower : Value : Upper : Fixed : Stale : Domain\n",
      "        (0, 0) :     0 :   0.0 :     1 : False : False : Binary\n",
      "        (0, 1) :     0 :   1.0 :     1 : False : False : Binary\n",
      "        (0, 2) :     0 :   0.0 :     1 : False : False : Binary\n",
      "        (1, 0) :     0 :   1.0 :     1 : False : False : Binary\n",
      "        (1, 1) :     0 :   0.0 :     1 : False : False : Binary\n",
      "        (1, 2) :     0 :   0.0 :     1 : False : False : Binary\n",
      "        (2, 0) :     0 :   0.0 :     1 : False : False : Binary\n",
      "        (2, 1) :     0 :   0.0 :     1 : False : False : Binary\n",
      "        (2, 2) :     0 :   1.0 :     1 : False : False : Binary\n",
      "        (3, 0) :     0 :   0.0 :     1 : False : False : Binary\n",
      "        (3, 1) :     0 :   0.0 :     1 : False : False : Binary\n",
      "        (3, 2) :     0 :   1.0 :     1 : False : False : Binary\n",
      "        (4, 0) :     0 :   0.0 :     1 : False : False : Binary\n",
      "        (4, 1) :     0 :   1.0 :     1 : False : False : Binary\n",
      "        (4, 2) :     0 :   0.0 :     1 : False : False : Binary\n",
      "\n",
      "1 Objective Declarations\n",
      "    obj : Size=1, Index=None, Active=True\n",
      "        Key  : Active : Sense    : Expression\n",
      "        None :   True : minimize : 2.68*x[1,0]*x[0,1] + 2.68*x[2,0]*x[0,1] + 2.68*x[3,0]*x[1,1] + 2.68*x[4,0]*x[1,1] + 2.46*x[1,0]*x[0,2] + 2.46*x[2,0]*x[0,2] + 2.46*x[3,0]*x[1,2] + 2.46*x[4,0]*x[1,2] + 2.31*x[1,1]*x[0,2] + 2.31*x[2,1]*x[0,2] + 2.31*x[3,1]*x[1,2] + 2.31*x[4,1]*x[1,2] + 0.62*x[1,0]*x[0,1] + 0.62*x[2,0]*x[0,1] + 0.62*x[3,0]*x[1,1] + 0.62*x[4,0]*x[1,1] + 0.57*x[1,0]*x[0,2] + 0.57*x[2,0]*x[0,2] + 0.57*x[3,0]*x[1,2] + 0.57*x[4,0]*x[1,2] + 0.54*x[1,1]*x[0,2] + 0.54*x[2,1]*x[0,2] + 0.54*x[3,1]*x[1,2] + 0.54*x[4,1]*x[1,2] + 0.29*x[1,0]*x[0,1] + 0.29*x[2,0]*x[0,1] + 0.29*x[3,0]*x[1,1] + 0.29*x[4,0]*x[1,1] + 0.26*x[1,0]*x[0,2] + 0.26*x[2,0]*x[0,2] + 0.26*x[3,0]*x[1,2] + 0.26*x[4,0]*x[1,2] + 0.25*x[1,1]*x[0,2] + 0.25*x[2,1]*x[0,2] + 0.25*x[3,1]*x[1,2] + 0.25*x[4,1]*x[1,2] + 3.08*x[1,0]*x[0,1] + 3.08*x[2,0]*x[0,1] + 3.08*x[3,0]*x[1,1] + 3.08*x[4,0]*x[1,1] + 2.83*x[1,0]*x[0,2] + 2.83*x[2,0]*x[0,2] + 2.83*x[3,0]*x[1,2] + 2.83*x[4,0]*x[1,2] + 2.65*x[1,1]*x[0,2] + 2.65*x[2,1]*x[0,2] + 2.65*x[3,1]*x[1,2] + 2.65*x[4,1]*x[1,2]\n",
      "\n",
      "3 Constraint Declarations\n",
      "    c1 : Size=5, Index={1, 2, 3, 4, 5}, Active=True\n",
      "        Key : Lower : Body                     : Upper : Active\n",
      "          1 :   1.0 : x[0,0] + x[0,1] + x[0,2] :   1.0 :   True\n",
      "          2 :   1.0 : x[1,0] + x[1,1] + x[1,2] :   1.0 :   True\n",
      "          3 :   1.0 : x[2,0] + x[2,1] + x[2,2] :   1.0 :   True\n",
      "          4 :   1.0 : x[3,0] + x[3,1] + x[3,2] :   1.0 :   True\n",
      "          5 :   1.0 : x[4,0] + x[4,1] + x[4,2] :   1.0 :   True\n",
      "    c2 : Size=4, Index={1, 2, 3, 4}, Active=True\n",
      "        Key : Lower : Body                                          : Upper : Active\n",
      "          1 :   0.0 : x[1,0]*x[0,0] + x[1,1]*x[0,1] + x[1,2]*x[0,2] :   0.0 :   True\n",
      "          2 :   0.0 : x[2,0]*x[0,0] + x[2,1]*x[0,1] + x[2,2]*x[0,2] :   0.0 :   True\n",
      "          3 :   0.0 : x[3,0]*x[1,0] + x[3,1]*x[1,1] + x[3,2]*x[1,2] :   0.0 :   True\n",
      "          4 :   0.0 : x[4,0]*x[1,0] + x[4,1]*x[1,1] + x[4,2]*x[1,2] :   0.0 :   True\n",
      "    c3 : Size=2, Index={1, 2}, Active=True\n",
      "        Key : Lower : Body                                          : Upper : Active\n",
      "          1 :   0.0 : x[1,0]*x[2,0] + x[1,1]*x[2,1] + x[1,2]*x[2,2] :   0.0 :   True\n",
      "          2 :   0.0 : x[3,0]*x[4,0] + x[3,1]*x[4,1] + x[3,2]*x[4,2] :   0.0 :   True\n",
      "\n",
      "5 Declarations: x c1 c2 c3 obj\n"
     ]
    }
   ],
   "source": [
    "mdl = pyo.ConcreteModel()\n",
    "\n",
    "N = range(n)\n",
    "M = range(m)\n",
    "\n",
    "mdl.x = pyo.Var(M, N, domain=pyo.Binary)\n",
    "\n",
    "mdl.c1 = pyo.ConstraintList()\n",
    "mdl.c2 = pyo.ConstraintList()\n",
    "mdl.c3 = pyo.ConstraintList()\n",
    "\n",
    "for r in range(m): \n",
    "  mdl.c1.add(sum(mdl.x[r, i] for i in range(n)) == 1)\n",
    "\n",
    "for (r, s) in sorted(pbs):\n",
    "  mdl.c2.add(sum(mdl.x[r - 1, i] * mdl.x[s - 1, i] for i in range(n)) == 0)\n",
    "\n",
    "for (r, s) in sorted(psi):\n",
    "  mdl.c3.add(sum(mdl.x[r - 1, i] * mdl.x[s - 1, i] for i in range(n)) == 0)\n",
    "\n",
    "mdl.obj = pyo.Objective(\n",
    "  rule=sum(w * mdl.x[r - 1, i - 1] * mdl.x[s - 1, j - 1] for a, i, j, w in data for r, s in sorted(pbs)), \n",
    "  sense=pyo.minimize\n",
    ")\n",
    "\n",
    "# with pyo.SolverFactory('gurobi', solver_io='python', manage_env=True) as opt:\n",
    "#   opt.solve(mdl)\n",
    "res = pyo.SolverFactory(\"gurobi_direct\").solve(mdl)\n",
    "\n",
    "mdl.obj.display()\n",
    "\n",
    "x = list(map(lambda i : int(mdl.x[i].value), mdl.x))\n",
    "print(x)\n",
    "\n",
    "def total_weight(x):\n",
    "  pts = {}\n",
    "\n",
    "  part = 0\n",
    "  for idx, val in enumerate(x):\n",
    "    if val == int(1):\n",
    "      pts[part] = idx % 3\n",
    "      part += 1\n",
    "\n",
    "  weights = 0\n",
    "  for curr, parent in sorted(pbs):\n",
    "    i = pts[curr - 1] + 1\n",
    "    j = pts[parent - 1] + 1\n",
    "    for row in data:\n",
    "      if curr == row[0]:\n",
    "        if i == row[1] and j == row[2]:\n",
    "          weights += row[3]\n",
    "        if i == row[2] and j == row[1]:\n",
    "          weights += row[3]\n",
    "  return weights\n",
    "\n",
    "print(\"weight:\", total_weight(x))\n",
    "mdl.pprint()"
   ]
  },
  {
   "cell_type": "code",
   "execution_count": 7,
   "metadata": {},
   "outputs": [
    {
     "data": {
      "text/plain": [
       "<matplotlib.colorbar.Colorbar at 0x285025210>"
      ]
     },
     "execution_count": 7,
     "metadata": {},
     "output_type": "execute_result"
    },
    {
     "data": {
      "image/png": "[encoded data removed]",
      "text/plain": [
       "<Figure size 640x480 with 2 Axes>"
      ]
     },
     "metadata": {},
     "output_type": "display_data"
    }
   ],
   "source": [
    "U = 20\n",
    "N = n * m\n",
    "\n",
    "Q = np.zeros((N, N))\n",
    "\n",
    "P1 = U\n",
    "for p in range(m):\n",
    "  for a in range(p * n, (p * n) + n):\n",
    "    for i in range(p * n, (p * n) + n):\n",
    "      Q[a][i] = P1\n",
    "    Q[a][a] *= -1\n",
    "\n",
    "P2 = U\n",
    "for r, s in sorted(pbs):\n",
    "  for i in range(n):\n",
    "    Q[((r - 1) * n) + i][(s * n) - n + i] = P2\n",
    "    Q[(s * n) - n + i][((r - 1) * n) + i] = P2\n",
    "\n",
    "P3 = U\n",
    "for r, s in sorted(psi):\n",
    "  for i in range(n):\n",
    "    Q[((r - 1) * n) + i][(s * n) - n + i] = P3\n",
    "    Q[(s * n) - n + i][((r - 1) * n) + i] = P3\n",
    "\n",
    "for r, s in sorted(pbs):\n",
    "  for a, i, j, w in data:\n",
    "    Q[((r - 1) * n) + i - 1][((s - 1) * n) + j - 1] = w\n",
    "    Q[((s - 1) * n) + j - 1][((r - 1) * n) + i - 1] = w\n",
    "\n",
    "plt.imshow(Q)\n",
    "plt.colorbar()"
   ]
  },
  {
   "cell_type": "code",
   "execution_count": 8,
   "metadata": {},
   "outputs": [
    {
     "name": "stdout",
     "output_type": "stream",
     "text": [
      "best: [0 1 0 1 0 0 0 0 1 0 0 1 0 1 0]\n",
      "weight: 6.5600000000000005\n"
     ]
    }
   ],
   "source": [
    "bins = [np.binary_repr(i, N) for i in range(2 ** N)]\n",
    "\n",
    "def fun(z): return z.T @ Q @ z\n",
    "\n",
    "def cost_fun(bins):\n",
    "  costs = []\n",
    "  for bin in bins:\n",
    "    z = np.array(list(bin), dtype=int)\n",
    "    cost = fun(z)\n",
    "    costs.append(cost)\n",
    "  zipped = zip(bins, costs)\n",
    "  sorted_zipped = sorted(zipped, key=lambda x : x[1])\n",
    "  return sorted_zipped\n",
    "\n",
    "def get_sols(bins):\n",
    "  sols = cost_fun(bins)\n",
    "  return sols[:-1]\n",
    "\n",
    "def find_sol(sol):\n",
    "  sols = get_sols(bins)\n",
    "  for bin, val in sols:\n",
    "    if np.array_equal(sol, np.array(list(bin), dtype=int)):\n",
    "      return (bin, val)\n",
    "\n",
    "def best_sol(sols):\n",
    "  best_sol = np.array(list(sols[0][0]), dtype=int)\n",
    "  return best_sol\n",
    "\n",
    "def print_sols(): return print(get_sols(bins))\n",
    "\n",
    "# print_sols()\n",
    "\n",
    "# best = np.array([0, 1, 0, 1, 0, 0, 0, 0, 1, 0, 0, 1, 0, 1, 0])\n",
    "# print(find_sol(best))\n",
    "\n",
    "x = best_sol(get_sols(bins))\n",
    "print(\"best:\", x)\n",
    "\n",
    "def total_weight(x):\n",
    "  pts = {}\n",
    "\n",
    "  part = 0\n",
    "  for idx, val in enumerate(x):\n",
    "    if val == int(1):\n",
    "      pts[part] = idx % 3\n",
    "      part += 1\n",
    "\n",
    "  weights = 0\n",
    "  for curr, parent in sorted(pbs):\n",
    "    i = pts[curr - 1] + 1\n",
    "    j = pts[parent - 1] + 1\n",
    "    for row in data:\n",
    "      if curr == row[0]:\n",
    "        if i == row[1] and j == row[2]:\n",
    "          weights += row[3]\n",
    "        if i == row[2] and j == row[1]:\n",
    "          weights += row[3]\n",
    "  return weights\n",
    "\n",
    "print(\"weight:\", total_weight(x))"
   ]
  },
  {
   "cell_type": "code",
   "execution_count": 9,
   "metadata": {},
   "outputs": [
    {
     "name": "stdout",
     "output_type": "stream",
     "text": [
      "['IIIIIIIIIIIIIIZ', 'IIIIIIIIIIIIIZZ', 'IIIIIIIIIIIIIZI',\n",
      " 'IIIIIIIIIIIIZIZ', 'IIIIIIIIIIIIZII', 'IIIIIIIIIIIZIIZ',\n",
      " 'IIIIIIIIIIIZIII', 'IIIIIIIIZIIIIIZ', 'IIIIIIIIZIIIIII',\n",
      " 'IIIIIIIIIIIIZZI', 'IIIIIIIIIIIZIZI', 'IIIIIIIIIIZIIZI',\n",
      " 'IIIIIIIIIIZIIII', 'IIIIIIIIZIIIIZI', 'IIIIIIIZIIIIIZI',\n",
      " 'IIIIIIIZIIIIIII', 'IIIIIIIIIIIZZII', 'IIIIIIIIIIZIZII',\n",
      " 'IIIIIIIIIZIIZII', 'IIIIIIIIIZIIIII', 'IIIIIIIIZIIIZII',\n",
      " 'IIIIIIIZIIIIZII', 'IIIIIIZIIIIIZII', 'IIIIIIZIIIIIIII',\n",
      " 'IIIIIIIIIIZZIII', 'IIIIIIIIIZIZIII', 'IIIIIIIIZIIZIII',\n",
      " 'IIIIIZIIIIIZIII', 'IIIIIZIIIIIIIII', 'IIZIIIIIIIIZIII',\n",
      " 'IIZIIIIIIIIIIII', 'IIIIIIIIIZZIIII', 'IIIIIIIZIIZIIII',\n",
      " 'IIIIIZIIIIZIIII', 'IIIIZIIIIIZIIII', 'IIIIZIIIIIIIIII',\n",
      " 'IIZIIIIIIIZIIII', 'IZIIIIIIIIZIIII', 'IZIIIIIIIIIIIII',\n",
      " 'IIIIIIZIIZIIIII', 'IIIIIZIIIZIIIII', 'IIIIZIIIIZIIIII',\n",
      " 'IIIZIIIIIZIIIII', 'IIIZIIIIIIIIIII', 'IIZIIIIIIZIIIII',\n",
      " 'IZIIIIIIIZIIIII', 'ZIIIIIIIIZIIIII', 'ZIIIIIIIIIIIIII',\n",
      " 'IIIIIIIZZIIIIII', 'IIIIIIZIZIIIIII', 'IIIIIIZZIIIIIII',\n",
      " 'IIIIZZIIIIIIIII', 'IIIZIZIIIIIIIII', 'IIZIIZIIIIIIIII',\n",
      " 'IIIZZIIIIIIIIII', 'IZIIZIIIIIIIIII', 'ZIIZIIIIIIIIIII',\n",
      " 'IZZIIIIIIIIIIII', 'ZIZIIIIIIIIIIII', 'ZZIIIIIIIIIIIII'] 60 [-30.   +0.j  10.   +0.j -33.08 +0.j  10.   +0.j -35.48 +0.j  10.   +0.j\n",
      " -52.955+0.j  10.   +0.j -32.955+0.j  10.   +0.j   1.54 +0.j  10.   +0.j\n",
      " -54.405+0.j   1.54 +0.j  10.   +0.j -31.325+0.j   1.415+0.j   1.325+0.j\n",
      "  10.   +0.j -55.48 +0.j   1.415+0.j   1.325+0.j  10.   +0.j -30.   +0.j\n",
      "  10.   +0.j  10.   +0.j  10.   +0.j  10.   +0.j -32.955+0.j  10.   +0.j\n",
      " -32.955+0.j  10.   +0.j  10.   +0.j   1.54 +0.j  10.   +0.j -31.325+0.j\n",
      "   1.54 +0.j  10.   +0.j -31.325+0.j  10.   +0.j   1.415+0.j   1.325+0.j\n",
      "  10.   +0.j -30.   +0.j   1.415+0.j   1.325+0.j  10.   +0.j -30.   +0.j\n",
      "  10.   +0.j  10.   +0.j  10.   +0.j  10.   +0.j  10.   +0.j  10.   +0.j\n",
      "  10.   +0.j  10.   +0.j  10.   +0.j  10.   +0.j  10.   +0.j  10.   +0.j]\n"
     ]
    }
   ],
   "source": [
    "qp = QuadraticProgram()\n",
    "\n",
    "for r in range(m):\n",
    "  for i in range(n):\n",
    "    qp.binary_var(f\"x{r}{i}\")\n",
    "\n",
    "qp.minimize(quadratic=Q)\n",
    "\n",
    "qubit_op, offset = qp.to_ising()\n",
    "print(qubit_op.paulis, len(qubit_op.paulis), qubit_op.coeffs)"
   ]
  },
  {
   "cell_type": "code",
   "execution_count": 10,
   "metadata": {},
   "outputs": [
    {
     "name": "stdout",
     "output_type": "stream",
     "text": [
      "\n",
      "   Normal return from subroutine COBYLA\n",
      "\n",
      "   NFVALS =   67   F =-1.180838E+02    MAXCV = 0.000000E+00\n",
      "   X =-7.023744E+00   5.355715E+00\n",
      "None 1\n",
      "{'state': 6417, 'bitstring': '001100100010001', 'value': (-290.96000000000004+0j), 'probability': 9.169751932e-05}\n"
     ]
    },
    {
     "name": "stderr",
     "output_type": "stream",
     "text": [
      "/Users/Quentin/Documents/hackathon/airbus/playground/venv/lib/python3.10/site-packages/matplotlib/cbook.py:1699: ComplexWarning: Casting complex values to real discards the imaginary part\n",
      "  return math.isfinite(val)\n",
      "/Users/Quentin/Documents/hackathon/airbus/playground/venv/lib/python3.10/site-packages/matplotlib/cbook.py:1345: ComplexWarning: Casting complex values to real discards the imaginary part\n",
      "  return np.asarray(x, float)\n"
     ]
    },
    {
     "data": {
      "text/plain": [
       "[<matplotlib.lines.Line2D at 0x29e49f5e0>]"
      ]
     },
     "execution_count": 10,
     "metadata": {},
     "output_type": "execute_result"
    },
    {
     "data": {
      "image/png": "[encoded data removed]",
      "text/plain": [
       "<Figure size 640x480 with 1 Axes>"
      ]
     },
     "metadata": {},
     "output_type": "display_data"
    }
   ],
   "source": [
    "from qiskit.primitives import Sampler, Estimator\n",
    "\n",
    "sampler = Sampler()\n",
    "optimizer = COBYLA(disp=True)\n",
    "\n",
    "counts, values = [], []\n",
    "def store_intermediate_result(eval_count, param, mean, std):\n",
    "  counts.append(eval_count)\n",
    "  values.append(mean)\n",
    "\n",
    "qaoa = QAOA(sampler=sampler, optimizer=optimizer, callback=store_intermediate_result)\n",
    "result = qaoa.compute_minimum_eigenvalue(qubit_op)\n",
    "\n",
    "print(qaoa.initial_point, qaoa.reps)\n",
    "print(result.best_measurement)\n",
    "\n",
    "plt.plot(counts, values)"
   ]
  }
 ],
 "metadata": {
  "kernelspec": {
   "display_name": "Python 3 (ipykernel)",
   "language": "python",
   "name": "python3"
  },
  "language_info": {
   "codemirror_mode": {
    "name": "ipython",
    "version": 3
   },
   "file_extension": ".py",
   "mimetype": "text/x-python",
   "name": "python",
   "nbconvert_exporter": "python",
   "pygments_lexer": "ipython3",
   "version": "3.10.8"
  }
 },
 "nbformat": 4,
 "nbformat_minor": 2
}
